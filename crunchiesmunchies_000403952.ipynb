{
  "cells": [
    {
      "cell_type": "markdown",
      "metadata": {
        "id": "view-in-github",
        "colab_type": "text"
      },
      "source": [
        "<a href=\"https://colab.research.google.com/github/Luiscal28/crunchiesmunchies.luiscal28/blob/main/crunchiesmunchies_000403952.ipynb\" target=\"_parent\"><img src=\"https://colab.research.google.com/assets/colab-badge.svg\" alt=\"Open In Colab\"/></a>"
      ]
    },
    {
      "cell_type": "code",
      "source": [
        "import numpy as np\n",
        "calory_stats = np.genfromtxt('/content/drive/MyDrive/archivos csv/actividad csv.csv', delimiter = ',')\n",
        "average_calories =  np.mean(calory_stats)\n",
        "median_calories = np.median(np.sort(calory_stats))\n",
        "\n",
        "i = 0\n",
        "nth_percentile = 0\n",
        "while nth_percentile < 60:\n",
        "  nth_percentile = np.percentile(calory_stats, i)\n",
        "  i += 1\n",
        "\n",
        "more_calories = (len(calory_stats[calory_stats > 60])) / len(calory_stats) * 100\n",
        "\n",
        "calory_std = np.std(calory_stats)\n",
        "\n",
        "message=\"de esto podemos deduciar que los datos estan dispersos en cuanto a la cantidad de calorias pues una desviacion de 19 es considerable respecto a las calorias\"\n",
        "\n",
        "print(\"calorias en otras compañias\")\n",
        "print(np.sort(calory_stats))\n",
        "print()\n",
        "print(\"promedio de calorias en otras compañias: \",average_calories)\n",
        "print(\"promedio de calorias en crunchies munchies: 60\" )\n",
        "print(\"la diferencia es de: \",average_calories-60)\n",
        "print(\"la mediana de las calorias en otras compañias es de: \",median_calories)\n",
        "print(average_calories,\"-\",median_calories,\"=\",median_calories-average_calories)\n",
        "print(\"el menor percentil que es mayor a 60 calorias es: \",i-1,\",\",nth_percentile,\"calorias\")\n",
        "print(\"El porcentaje de cereales con más de 60 calorías por porción es: \",more_calories,\"%\")\n",
        "print(\"la desviacion estandares de: \",calory_std)\n",
        "print(message)"
      ],
      "metadata": {
        "id": "Ib9hAHhg6RL9",
        "outputId": "9c2fb087-6ded-489d-a5c8-d8ee53604a26",
        "colab": {
          "base_uri": "https://localhost:8080/"
        }
      },
      "execution_count": 10,
      "outputs": [
        {
          "output_type": "stream",
          "name": "stdout",
          "text": [
            "calorias en otras compañias\n",
            "[ 50.  50.  50.  70.  70.  80.  90.  90.  90.  90.  90.  90.  90. 100.\n",
            " 100. 100. 100. 100. 100. 100. 100. 100. 100. 100. 100. 100. 100. 100.\n",
            " 100. 100. 110. 110. 110. 110. 110. 110. 110. 110. 110. 110. 110. 110.\n",
            " 110. 110. 110. 110. 110. 110. 110. 110. 110. 110. 110. 110. 110. 110.\n",
            " 110. 110. 110. 120. 120. 120. 120. 120. 120. 120. 120. 120. 120. 130.\n",
            " 130. 140. 140. 140. 150. 150. 160.]\n",
            "\n",
            "promedio de calorias en otras compañias:  106.88311688311688\n",
            "promedio de calorias en crunchies munchies: 60\n",
            "la diferencia es de:  46.883116883116884\n",
            "la mediana de las calorias en otras compañias es de:  110.0\n",
            "106.88311688311688 - 110.0 = 3.116883116883116\n",
            "el menor percentil que es mayor a 60 calorias es:  4 , 70.0 calorias\n",
            "El porcentaje de cereales con más de 60 calorías por porción es:  96.1038961038961 %\n",
            "la desviacion estandares de:  19.35718533390827\n",
            "de esto podemos deduciar que los datos estan dispersos en cuanto a la cantidad de calorias pues una desviacion de 19 es considerable respecto a las calorias\n"
          ]
        }
      ]
    }
  ],
  "metadata": {
    "colab": {
      "name": "Te damos la bienvenida a Colaboratory",
      "provenance": [],
      "include_colab_link": true
    },
    "kernelspec": {
      "display_name": "Python 3",
      "name": "python3"
    }
  },
  "nbformat": 4,
  "nbformat_minor": 0
}